{
 "cells": [
  {
   "cell_type": "markdown",
   "id": "cbf668c2",
   "metadata": {},
   "source": [
    "# Seçme İndeksleme Filtreleme"
   ]
  },
  {
   "cell_type": "code",
   "execution_count": 1,
   "id": "27bda278",
   "metadata": {},
   "outputs": [],
   "source": [
    "import pandas as pd\n",
    "import numpy as np"
   ]
  },
  {
   "cell_type": "code",
   "execution_count": 2,
   "id": "d6ad2b35",
   "metadata": {},
   "outputs": [],
   "source": [
    "# İçerisinde beş tane index değeri tutan bir obje tanımlamasını gerçekleştiriyorum.\n",
    "\n",
    "obje = pd.Series(np.arange(5),index=[\"a\",\"b\",\"c\",\"d\",\"e\"])"
   ]
  },
  {
   "cell_type": "code",
   "execution_count": 3,
   "id": "c1395b51",
   "metadata": {
    "scrolled": true
   },
   "outputs": [
    {
     "data": {
      "text/plain": [
       "a    0\n",
       "b    1\n",
       "c    2\n",
       "d    3\n",
       "e    4\n",
       "dtype: int32"
      ]
     },
     "execution_count": 3,
     "metadata": {},
     "output_type": "execute_result"
    }
   ],
   "source": [
    "obje"
   ]
  },
  {
   "cell_type": "code",
   "execution_count": 4,
   "id": "b7b1a15f",
   "metadata": {},
   "outputs": [
    {
     "data": {
      "text/plain": [
       "2"
      ]
     },
     "execution_count": 4,
     "metadata": {},
     "output_type": "execute_result"
    }
   ],
   "source": [
    "# Objede bir satırı değerini yazdırmak istersem yapmam gereken şu olmalıdır.\n",
    "\n",
    "obje[\"c\"]"
   ]
  },
  {
   "cell_type": "code",
   "execution_count": 6,
   "id": "80be7c1f",
   "metadata": {},
   "outputs": [
    {
     "data": {
      "text/plain": [
       "1"
      ]
     },
     "execution_count": 6,
     "metadata": {},
     "output_type": "execute_result"
    }
   ],
   "source": [
    "# Aynı şeyi index numarasını girerekte yapabiliriz.\n",
    "\n",
    "obje[1]"
   ]
  },
  {
   "cell_type": "code",
   "execution_count": 7,
   "id": "09b4d951",
   "metadata": {},
   "outputs": [
    {
     "data": {
      "text/plain": [
       "a    0\n",
       "b    1\n",
       "c    2\n",
       "dtype: int32"
      ]
     },
     "execution_count": 7,
     "metadata": {},
     "output_type": "execute_result"
    }
   ],
   "source": [
    "# Seçme İndeksleme Filtrelemeeriyi dilimlemek istersek yapmamız gereken şu olmalıdır.\n",
    "\n",
    "obje[0:3]"
   ]
  },
  {
   "cell_type": "code",
   "execution_count": 8,
   "id": "42a4ada6",
   "metadata": {},
   "outputs": [
    {
     "data": {
      "text/plain": [
       "a    0\n",
       "e    4\n",
       "dtype: int32"
      ]
     },
     "execution_count": 8,
     "metadata": {},
     "output_type": "execute_result"
    }
   ],
   "source": [
    "# Belirli olan satırı ekrana yazdırmak istersek yapmamız gereken şu olmalıdır.\n",
    "\n",
    "obje[[\"a\",\"e\"]]"
   ]
  },
  {
   "cell_type": "code",
   "execution_count": 10,
   "id": "b65a1278",
   "metadata": {},
   "outputs": [
    {
     "data": {
      "text/plain": [
       "a    0\n",
       "e    4\n",
       "dtype: int32"
      ]
     },
     "execution_count": 10,
     "metadata": {},
     "output_type": "execute_result"
    }
   ],
   "source": [
    "# Aynı şekilde index numarası girerekte satırı ekrana yazdırabiliriz.\n",
    "\n",
    "obje[[0,4]]"
   ]
  },
  {
   "cell_type": "code",
   "execution_count": 11,
   "id": "4bf2a3b8",
   "metadata": {},
   "outputs": [
    {
     "data": {
      "text/plain": [
       "a    0\n",
       "b    1\n",
       "dtype: int32"
      ]
     },
     "execution_count": 11,
     "metadata": {},
     "output_type": "execute_result"
    }
   ],
   "source": [
    "# İkiden küçük olan değerleri ekrana yazdırmak istersem ise yapmam geeken şu olmalıdır.\n",
    "\n",
    "obje[obje<2]"
   ]
  },
  {
   "cell_type": "code",
   "execution_count": 14,
   "id": "c9130579",
   "metadata": {},
   "outputs": [
    {
     "data": {
      "text/plain": [
       "a    0\n",
       "b    1\n",
       "c    2\n",
       "dtype: int32"
      ]
     },
     "execution_count": 14,
     "metadata": {},
     "output_type": "execute_result"
    }
   ],
   "source": [
    "# Veri dilimlemesi yaparken son dlim belirtecinde son index dilime dahildir.\n",
    "\n",
    "obje[\"a\":\"c\"]"
   ]
  },
  {
   "cell_type": "code",
   "execution_count": 16,
   "id": "eeca932e",
   "metadata": {},
   "outputs": [
    {
     "data": {
      "text/plain": [
       "a    5\n",
       "b    5\n",
       "c    5\n",
       "d    3\n",
       "e    4\n",
       "dtype: int32"
      ]
     },
     "execution_count": 16,
     "metadata": {},
     "output_type": "execute_result"
    }
   ],
   "source": [
    "# Dilimlenen kısma değer ataması yapabilirim.\n",
    "\n",
    "obje[\"a\":\"c\"]=5\n",
    "obje"
   ]
  },
  {
   "cell_type": "code",
   "execution_count": 19,
   "id": "e24c2aee",
   "metadata": {},
   "outputs": [
    {
     "data": {
      "text/html": [
       "<div>\n",
       "<style scoped>\n",
       "    .dataframe tbody tr th:only-of-type {\n",
       "        vertical-align: middle;\n",
       "    }\n",
       "\n",
       "    .dataframe tbody tr th {\n",
       "        vertical-align: top;\n",
       "    }\n",
       "\n",
       "    .dataframe thead th {\n",
       "        text-align: right;\n",
       "    }\n",
       "</style>\n",
       "<table border=\"1\" class=\"dataframe\">\n",
       "  <thead>\n",
       "    <tr style=\"text-align: right;\">\n",
       "      <th></th>\n",
       "      <th>bir</th>\n",
       "      <th>iki</th>\n",
       "      <th>uc</th>\n",
       "      <th>dort</th>\n",
       "    </tr>\n",
       "  </thead>\n",
       "  <tbody>\n",
       "    <tr>\n",
       "      <th>Bursa</th>\n",
       "      <td>0</td>\n",
       "      <td>1</td>\n",
       "      <td>2</td>\n",
       "      <td>3</td>\n",
       "    </tr>\n",
       "    <tr>\n",
       "      <th>İzmir</th>\n",
       "      <td>4</td>\n",
       "      <td>5</td>\n",
       "      <td>6</td>\n",
       "      <td>7</td>\n",
       "    </tr>\n",
       "    <tr>\n",
       "      <th>İstanbul</th>\n",
       "      <td>8</td>\n",
       "      <td>9</td>\n",
       "      <td>10</td>\n",
       "      <td>11</td>\n",
       "    </tr>\n",
       "    <tr>\n",
       "      <th>Ankara</th>\n",
       "      <td>12</td>\n",
       "      <td>13</td>\n",
       "      <td>14</td>\n",
       "      <td>15</td>\n",
       "    </tr>\n",
       "  </tbody>\n",
       "</table>\n",
       "</div>"
      ],
      "text/plain": [
       "          bir  iki  uc  dort\n",
       "Bursa       0    1   2     3\n",
       "İzmir       4    5   6     7\n",
       "İstanbul    8    9  10    11\n",
       "Ankara     12   13  14    15"
      ]
     },
     "execution_count": 19,
     "metadata": {},
     "output_type": "execute_result"
    }
   ],
   "source": [
    "# DataFrame veri yapısında veriseti oluşturmak istediğimde yapmam gereken şu olmalıdır.\n",
    "# On altı'ya kadar veri bir tablo tanımladım ve bu tabluyu 4*4 şeklinde tanımlamasını yaptım.\n",
    "\n",
    "veri = pd.DataFrame(np.arange(16).reshape(4,4),index=[\"Bursa\",\"İzmir\",\"İstanbul\",\"Ankara\"],\n",
    "                   columns=[\"bir\",\"iki\",\"uc\",\"dort\"])\n",
    "veri"
   ]
  },
  {
   "cell_type": "code",
   "execution_count": 20,
   "id": "2512a0da",
   "metadata": {},
   "outputs": [
    {
     "data": {
      "text/plain": [
       "Bursa        1\n",
       "İzmir        5\n",
       "İstanbul     9\n",
       "Ankara      13\n",
       "Name: iki, dtype: int32"
      ]
     },
     "execution_count": 20,
     "metadata": {},
     "output_type": "execute_result"
    }
   ],
   "source": [
    "# İki ismindeki sütünün değerlerini ekrana yazmak istediğimde ise yapmam gereken şu olmalıdır.\n",
    "\n",
    "veri[\"iki\"]"
   ]
  },
  {
   "cell_type": "code",
   "execution_count": 21,
   "id": "0b2d774f",
   "metadata": {},
   "outputs": [
    {
     "data": {
      "text/html": [
       "<div>\n",
       "<style scoped>\n",
       "    .dataframe tbody tr th:only-of-type {\n",
       "        vertical-align: middle;\n",
       "    }\n",
       "\n",
       "    .dataframe tbody tr th {\n",
       "        vertical-align: top;\n",
       "    }\n",
       "\n",
       "    .dataframe thead th {\n",
       "        text-align: right;\n",
       "    }\n",
       "</style>\n",
       "<table border=\"1\" class=\"dataframe\">\n",
       "  <thead>\n",
       "    <tr style=\"text-align: right;\">\n",
       "      <th></th>\n",
       "      <th>bir</th>\n",
       "      <th>iki</th>\n",
       "    </tr>\n",
       "  </thead>\n",
       "  <tbody>\n",
       "    <tr>\n",
       "      <th>Bursa</th>\n",
       "      <td>0</td>\n",
       "      <td>1</td>\n",
       "    </tr>\n",
       "    <tr>\n",
       "      <th>İzmir</th>\n",
       "      <td>4</td>\n",
       "      <td>5</td>\n",
       "    </tr>\n",
       "    <tr>\n",
       "      <th>İstanbul</th>\n",
       "      <td>8</td>\n",
       "      <td>9</td>\n",
       "    </tr>\n",
       "    <tr>\n",
       "      <th>Ankara</th>\n",
       "      <td>12</td>\n",
       "      <td>13</td>\n",
       "    </tr>\n",
       "  </tbody>\n",
       "</table>\n",
       "</div>"
      ],
      "text/plain": [
       "          bir  iki\n",
       "Bursa       0    1\n",
       "İzmir       4    5\n",
       "İstanbul    8    9\n",
       "Ankara     12   13"
      ]
     },
     "execution_count": 21,
     "metadata": {},
     "output_type": "execute_result"
    }
   ],
   "source": [
    "# irden fazla sütün almak istersem yapmam gereken şu olmalıdır.\n",
    "# Burada dikkat etmeniz gereken asıl önemli nokta birden fazla sütün ekrana yazdırmak istediğim zama liste içinde liste yapısını kullandım.\n",
    "\n",
    "veri[[\"bir\",\"iki\"]]"
   ]
  },
  {
   "cell_type": "code",
   "execution_count": 22,
   "id": "dd8e8041",
   "metadata": {},
   "outputs": [
    {
     "data": {
      "text/html": [
       "<div>\n",
       "<style scoped>\n",
       "    .dataframe tbody tr th:only-of-type {\n",
       "        vertical-align: middle;\n",
       "    }\n",
       "\n",
       "    .dataframe tbody tr th {\n",
       "        vertical-align: top;\n",
       "    }\n",
       "\n",
       "    .dataframe thead th {\n",
       "        text-align: right;\n",
       "    }\n",
       "</style>\n",
       "<table border=\"1\" class=\"dataframe\">\n",
       "  <thead>\n",
       "    <tr style=\"text-align: right;\">\n",
       "      <th></th>\n",
       "      <th>bir</th>\n",
       "      <th>iki</th>\n",
       "      <th>uc</th>\n",
       "      <th>dort</th>\n",
       "    </tr>\n",
       "  </thead>\n",
       "  <tbody>\n",
       "    <tr>\n",
       "      <th>Bursa</th>\n",
       "      <td>0</td>\n",
       "      <td>1</td>\n",
       "      <td>2</td>\n",
       "      <td>3</td>\n",
       "    </tr>\n",
       "    <tr>\n",
       "      <th>İzmir</th>\n",
       "      <td>4</td>\n",
       "      <td>5</td>\n",
       "      <td>6</td>\n",
       "      <td>7</td>\n",
       "    </tr>\n",
       "    <tr>\n",
       "      <th>İstanbul</th>\n",
       "      <td>8</td>\n",
       "      <td>9</td>\n",
       "      <td>10</td>\n",
       "      <td>11</td>\n",
       "    </tr>\n",
       "  </tbody>\n",
       "</table>\n",
       "</div>"
      ],
      "text/plain": [
       "          bir  iki  uc  dort\n",
       "Bursa       0    1   2     3\n",
       "İzmir       4    5   6     7\n",
       "İstanbul    8    9  10    11"
      ]
     },
     "execution_count": 22,
     "metadata": {},
     "output_type": "execute_result"
    }
   ],
   "source": [
    "# Oluşturduğum DataFrame yapısı içerindeki veri yapısını dilimleyelim. Onu ise şu şekilde yapıyorum.\n",
    "\n",
    "veri[:3]"
   ]
  },
  {
   "cell_type": "code",
   "execution_count": 33,
   "id": "3ee60eef",
   "metadata": {},
   "outputs": [
    {
     "data": {
      "text/html": [
       "<div>\n",
       "<style scoped>\n",
       "    .dataframe tbody tr th:only-of-type {\n",
       "        vertical-align: middle;\n",
       "    }\n",
       "\n",
       "    .dataframe tbody tr th {\n",
       "        vertical-align: top;\n",
       "    }\n",
       "\n",
       "    .dataframe thead th {\n",
       "        text-align: right;\n",
       "    }\n",
       "</style>\n",
       "<table border=\"1\" class=\"dataframe\">\n",
       "  <thead>\n",
       "    <tr style=\"text-align: right;\">\n",
       "      <th></th>\n",
       "      <th>bir</th>\n",
       "      <th>iki</th>\n",
       "      <th>uc</th>\n",
       "      <th>dort</th>\n",
       "    </tr>\n",
       "  </thead>\n",
       "  <tbody>\n",
       "    <tr>\n",
       "      <th>İzmir</th>\n",
       "      <td>4</td>\n",
       "      <td>5</td>\n",
       "      <td>6</td>\n",
       "      <td>7</td>\n",
       "    </tr>\n",
       "    <tr>\n",
       "      <th>İstanbul</th>\n",
       "      <td>8</td>\n",
       "      <td>9</td>\n",
       "      <td>10</td>\n",
       "      <td>11</td>\n",
       "    </tr>\n",
       "    <tr>\n",
       "      <th>Ankara</th>\n",
       "      <td>12</td>\n",
       "      <td>13</td>\n",
       "      <td>14</td>\n",
       "      <td>15</td>\n",
       "    </tr>\n",
       "  </tbody>\n",
       "</table>\n",
       "</div>"
      ],
      "text/plain": [
       "          bir  iki  uc  dort\n",
       "İzmir       4    5   6     7\n",
       "İstanbul    8    9  10    11\n",
       "Ankara     12   13  14    15"
      ]
     },
     "execution_count": 33,
     "metadata": {},
     "output_type": "execute_result"
    }
   ],
   "source": [
    "# Eğer ben bir satırdaki değerlerin belli bir değerden büyük olursa ekrana yazdır dersem.\n",
    "\n",
    "veri1 = pd.DataFrame(np.arange(16).reshape(4, 4), index=[\"Bursa\", \"İzmir\", \"İstanbul\", \"Ankara\"],\n",
    "                    columns=[\"bir\", \"iki\", \"uc\", \"dort\"])\n",
    "\n",
    "veri1[veri1[\"dort\"] > 5]"
   ]
  },
  {
   "cell_type": "code",
   "execution_count": 35,
   "id": "b839b57f",
   "metadata": {},
   "outputs": [
    {
     "data": {
      "text/html": [
       "<div>\n",
       "<style scoped>\n",
       "    .dataframe tbody tr th:only-of-type {\n",
       "        vertical-align: middle;\n",
       "    }\n",
       "\n",
       "    .dataframe tbody tr th {\n",
       "        vertical-align: top;\n",
       "    }\n",
       "\n",
       "    .dataframe thead th {\n",
       "        text-align: right;\n",
       "    }\n",
       "</style>\n",
       "<table border=\"1\" class=\"dataframe\">\n",
       "  <thead>\n",
       "    <tr style=\"text-align: right;\">\n",
       "      <th></th>\n",
       "      <th>bir</th>\n",
       "      <th>iki</th>\n",
       "      <th>uc</th>\n",
       "      <th>dort</th>\n",
       "    </tr>\n",
       "  </thead>\n",
       "  <tbody>\n",
       "    <tr>\n",
       "      <th>Bursa</th>\n",
       "      <td>0</td>\n",
       "      <td>0</td>\n",
       "      <td>0</td>\n",
       "      <td>0</td>\n",
       "    </tr>\n",
       "    <tr>\n",
       "      <th>İzmir</th>\n",
       "      <td>0</td>\n",
       "      <td>5</td>\n",
       "      <td>6</td>\n",
       "      <td>7</td>\n",
       "    </tr>\n",
       "    <tr>\n",
       "      <th>İstanbul</th>\n",
       "      <td>8</td>\n",
       "      <td>9</td>\n",
       "      <td>10</td>\n",
       "      <td>11</td>\n",
       "    </tr>\n",
       "    <tr>\n",
       "      <th>Ankara</th>\n",
       "      <td>12</td>\n",
       "      <td>13</td>\n",
       "      <td>14</td>\n",
       "      <td>15</td>\n",
       "    </tr>\n",
       "  </tbody>\n",
       "</table>\n",
       "</div>"
      ],
      "text/plain": [
       "          bir  iki  uc  dort\n",
       "Bursa       0    0   0     0\n",
       "İzmir       0    5   6     7\n",
       "İstanbul    8    9  10    11\n",
       "Ankara     12   13  14    15"
      ]
     },
     "execution_count": 35,
     "metadata": {},
     "output_type": "execute_result"
    }
   ],
   "source": [
    "# Veri içerisindeki beş'ten küçük olan değerlerin yerine 0 atamasını yapıyorum.\n",
    "\n",
    "veri[veri<5]=0\n",
    "veri"
   ]
  },
  {
   "cell_type": "markdown",
   "id": "e5e7b814",
   "metadata": {},
   "source": [
    "DataFrame indexleme için loc ve iloc operotörleride kullanabilir."
   ]
  },
  {
   "cell_type": "raw",
   "id": "d633ef6b",
   "metadata": {},
   "source": [
    "# bu operotor ile satır ve sütünların  alt kümelerini seçebiliriz.\n",
    "# bu seçme işlemi için numaraları kullanmak istersek \"iloc\" etiket kullanmak istersek \"loc\" şeklinde kullanmalıyız."
   ]
  },
  {
   "cell_type": "code",
   "execution_count": 36,
   "id": "4b8289aa",
   "metadata": {},
   "outputs": [
    {
     "data": {
      "text/plain": [
       "bir     0\n",
       "iki     5\n",
       "uc      6\n",
       "dort    7\n",
       "Name: İzmir, dtype: int32"
      ]
     },
     "execution_count": 36,
     "metadata": {},
     "output_type": "execute_result"
    }
   ],
   "source": [
    "# Öreneğin birinci index'in satır ve sütünü görmek istersek.\n",
    "\n",
    "veri.iloc[1]"
   ]
  },
  {
   "cell_type": "code",
   "execution_count": 37,
   "id": "25999161",
   "metadata": {},
   "outputs": [
    {
     "data": {
      "text/plain": [
       "iki     5\n",
       "uc      6\n",
       "dort    7\n",
       "Name: İzmir, dtype: int32"
      ]
     },
     "execution_count": 37,
     "metadata": {},
     "output_type": "execute_result"
    }
   ],
   "source": [
    "# seçmek istediğim satırın belirli sütününü seçmek istersek eğer şu şekilde yapmalıyız.\n",
    "\n",
    "veri.iloc[1,[1,2,3]]"
   ]
  },
  {
   "cell_type": "code",
   "execution_count": 39,
   "id": "c4877da7",
   "metadata": {},
   "outputs": [
    {
     "data": {
      "text/html": [
       "<div>\n",
       "<style scoped>\n",
       "    .dataframe tbody tr th:only-of-type {\n",
       "        vertical-align: middle;\n",
       "    }\n",
       "\n",
       "    .dataframe tbody tr th {\n",
       "        vertical-align: top;\n",
       "    }\n",
       "\n",
       "    .dataframe thead th {\n",
       "        text-align: right;\n",
       "    }\n",
       "</style>\n",
       "<table border=\"1\" class=\"dataframe\">\n",
       "  <thead>\n",
       "    <tr style=\"text-align: right;\">\n",
       "      <th></th>\n",
       "      <th>iki</th>\n",
       "      <th>uc</th>\n",
       "      <th>dort</th>\n",
       "    </tr>\n",
       "  </thead>\n",
       "  <tbody>\n",
       "    <tr>\n",
       "      <th>İzmir</th>\n",
       "      <td>5</td>\n",
       "      <td>6</td>\n",
       "      <td>7</td>\n",
       "    </tr>\n",
       "    <tr>\n",
       "      <th>Ankara</th>\n",
       "      <td>13</td>\n",
       "      <td>14</td>\n",
       "      <td>15</td>\n",
       "    </tr>\n",
       "  </tbody>\n",
       "</table>\n",
       "</div>"
      ],
      "text/plain": [
       "        iki  uc  dort\n",
       "İzmir     5   6     7\n",
       "Ankara   13  14    15"
      ]
     },
     "execution_count": 39,
     "metadata": {},
     "output_type": "execute_result"
    }
   ],
   "source": [
    "# Birden çok satıın bellirli sütünlarınıda seçebiliriz onu ise şu şekilde yapmalıyız.\n",
    "\n",
    "veri.iloc[[1,3],[1,2,3]]"
   ]
  },
  {
   "cell_type": "code",
   "execution_count": 40,
   "id": "c8c5cea3",
   "metadata": {},
   "outputs": [
    {
     "data": {
      "text/html": [
       "<div>\n",
       "<style scoped>\n",
       "    .dataframe tbody tr th:only-of-type {\n",
       "        vertical-align: middle;\n",
       "    }\n",
       "\n",
       "    .dataframe tbody tr th {\n",
       "        vertical-align: top;\n",
       "    }\n",
       "\n",
       "    .dataframe thead th {\n",
       "        text-align: right;\n",
       "    }\n",
       "</style>\n",
       "<table border=\"1\" class=\"dataframe\">\n",
       "  <thead>\n",
       "    <tr style=\"text-align: right;\">\n",
       "      <th></th>\n",
       "      <th>bir</th>\n",
       "      <th>iki</th>\n",
       "      <th>uc</th>\n",
       "    </tr>\n",
       "  </thead>\n",
       "  <tbody>\n",
       "    <tr>\n",
       "      <th>Ankara</th>\n",
       "      <td>12</td>\n",
       "      <td>13</td>\n",
       "      <td>14</td>\n",
       "    </tr>\n",
       "  </tbody>\n",
       "</table>\n",
       "</div>"
      ],
      "text/plain": [
       "        bir  iki  uc\n",
       "Ankara   12   13  14"
      ]
     },
     "execution_count": 40,
     "metadata": {},
     "output_type": "execute_result"
    }
   ],
   "source": [
    "# Etiket kullanımı yani \"loc\" kullanımı ile veri çağırırsam bu şekilde yapmalıyım.\n",
    "\n",
    "veri.loc[[\"Ankara\"],[\"bir\",\"iki\",\"uc\"]]"
   ]
  },
  {
   "cell_type": "code",
   "execution_count": 41,
   "id": "eaff5bc4",
   "metadata": {},
   "outputs": [
    {
     "data": {
      "text/plain": [
       "Bursa        0\n",
       "İzmir        7\n",
       "İstanbul    11\n",
       "Ankara      15\n",
       "Name: dort, dtype: int32"
      ]
     },
     "execution_count": 41,
     "metadata": {},
     "output_type": "execute_result"
    }
   ],
   "source": [
    "# Eğer ankara'ya kadar olan değerlerin dördüncü stün değerlerini yazdırmak istersem yapmam gereken şu olmalıdır.\n",
    "\n",
    "veri.loc[:\"Ankara\",\"dort\"]"
   ]
  },
  {
   "cell_type": "code",
   "execution_count": 50,
   "id": "f02f53e2",
   "metadata": {},
   "outputs": [
    {
     "data": {
      "text/plain": [
       "a    0\n",
       "b    1\n",
       "c    2\n",
       "d    3\n",
       "e    4\n",
       "dtype: int32"
      ]
     },
     "execution_count": 50,
     "metadata": {},
     "output_type": "execute_result"
    }
   ],
   "source": [
    "# Eğer etiketlenmemiş değerin çağılma işlemini yaparsak hatta olmamız çok olasıdır.\n",
    "\n",
    "veri2 = pd.Series(np.arange(5),index=[\"a\",\"b\",\"c\",\"d\",\"e\"])\n",
    "veri2"
   ]
  },
  {
   "cell_type": "code",
   "execution_count": 49,
   "id": "28f062a5",
   "metadata": {
    "scrolled": true
   },
   "outputs": [
    {
     "ename": "KeyError",
     "evalue": "-1",
     "output_type": "error",
     "traceback": [
      "\u001b[1;31m---------------------------------------------------------------------------\u001b[0m",
      "\u001b[1;31mValueError\u001b[0m                                Traceback (most recent call last)",
      "File \u001b[1;32m~\\anaconda3\\Lib\\site-packages\\pandas\\core\\indexes\\range.py:345\u001b[0m, in \u001b[0;36mRangeIndex.get_loc\u001b[1;34m(self, key)\u001b[0m\n\u001b[0;32m    344\u001b[0m \u001b[38;5;28;01mtry\u001b[39;00m:\n\u001b[1;32m--> 345\u001b[0m     \u001b[38;5;28;01mreturn\u001b[39;00m \u001b[38;5;28mself\u001b[39m\u001b[38;5;241m.\u001b[39m_range\u001b[38;5;241m.\u001b[39mindex(new_key)\n\u001b[0;32m    346\u001b[0m \u001b[38;5;28;01mexcept\u001b[39;00m \u001b[38;5;167;01mValueError\u001b[39;00m \u001b[38;5;28;01mas\u001b[39;00m err:\n",
      "\u001b[1;31mValueError\u001b[0m: -1 is not in range",
      "\nThe above exception was the direct cause of the following exception:\n",
      "\u001b[1;31mKeyError\u001b[0m                                  Traceback (most recent call last)",
      "Cell \u001b[1;32mIn[49], line 3\u001b[0m\n\u001b[0;32m      1\u001b[0m \u001b[38;5;66;03m# Etiketlenmediği için hatta aldık.\u001b[39;00m\n\u001b[1;32m----> 3\u001b[0m veri2[\u001b[38;5;241m-\u001b[39m\u001b[38;5;241m1\u001b[39m]\n",
      "File \u001b[1;32m~\\anaconda3\\Lib\\site-packages\\pandas\\core\\series.py:1007\u001b[0m, in \u001b[0;36mSeries.__getitem__\u001b[1;34m(self, key)\u001b[0m\n\u001b[0;32m   1004\u001b[0m     \u001b[38;5;28;01mreturn\u001b[39;00m \u001b[38;5;28mself\u001b[39m\u001b[38;5;241m.\u001b[39m_values[key]\n\u001b[0;32m   1006\u001b[0m \u001b[38;5;28;01melif\u001b[39;00m key_is_scalar:\n\u001b[1;32m-> 1007\u001b[0m     \u001b[38;5;28;01mreturn\u001b[39;00m \u001b[38;5;28mself\u001b[39m\u001b[38;5;241m.\u001b[39m_get_value(key)\n\u001b[0;32m   1009\u001b[0m \u001b[38;5;28;01mif\u001b[39;00m is_hashable(key):\n\u001b[0;32m   1010\u001b[0m     \u001b[38;5;66;03m# Otherwise index.get_value will raise InvalidIndexError\u001b[39;00m\n\u001b[0;32m   1011\u001b[0m     \u001b[38;5;28;01mtry\u001b[39;00m:\n\u001b[0;32m   1012\u001b[0m         \u001b[38;5;66;03m# For labels that don't resolve as scalars like tuples and frozensets\u001b[39;00m\n",
      "File \u001b[1;32m~\\anaconda3\\Lib\\site-packages\\pandas\\core\\series.py:1116\u001b[0m, in \u001b[0;36mSeries._get_value\u001b[1;34m(self, label, takeable)\u001b[0m\n\u001b[0;32m   1113\u001b[0m     \u001b[38;5;28;01mreturn\u001b[39;00m \u001b[38;5;28mself\u001b[39m\u001b[38;5;241m.\u001b[39m_values[label]\n\u001b[0;32m   1115\u001b[0m \u001b[38;5;66;03m# Similar to Index.get_value, but we do not fall back to positional\u001b[39;00m\n\u001b[1;32m-> 1116\u001b[0m loc \u001b[38;5;241m=\u001b[39m \u001b[38;5;28mself\u001b[39m\u001b[38;5;241m.\u001b[39mindex\u001b[38;5;241m.\u001b[39mget_loc(label)\n\u001b[0;32m   1118\u001b[0m \u001b[38;5;28;01mif\u001b[39;00m is_integer(loc):\n\u001b[0;32m   1119\u001b[0m     \u001b[38;5;28;01mreturn\u001b[39;00m \u001b[38;5;28mself\u001b[39m\u001b[38;5;241m.\u001b[39m_values[loc]\n",
      "File \u001b[1;32m~\\anaconda3\\Lib\\site-packages\\pandas\\core\\indexes\\range.py:347\u001b[0m, in \u001b[0;36mRangeIndex.get_loc\u001b[1;34m(self, key)\u001b[0m\n\u001b[0;32m    345\u001b[0m         \u001b[38;5;28;01mreturn\u001b[39;00m \u001b[38;5;28mself\u001b[39m\u001b[38;5;241m.\u001b[39m_range\u001b[38;5;241m.\u001b[39mindex(new_key)\n\u001b[0;32m    346\u001b[0m     \u001b[38;5;28;01mexcept\u001b[39;00m \u001b[38;5;167;01mValueError\u001b[39;00m \u001b[38;5;28;01mas\u001b[39;00m err:\n\u001b[1;32m--> 347\u001b[0m         \u001b[38;5;28;01mraise\u001b[39;00m \u001b[38;5;167;01mKeyError\u001b[39;00m(key) \u001b[38;5;28;01mfrom\u001b[39;00m \u001b[38;5;21;01merr\u001b[39;00m\n\u001b[0;32m    348\u001b[0m \u001b[38;5;28;01mif\u001b[39;00m \u001b[38;5;28misinstance\u001b[39m(key, Hashable):\n\u001b[0;32m    349\u001b[0m     \u001b[38;5;28;01mraise\u001b[39;00m \u001b[38;5;167;01mKeyError\u001b[39;00m(key)\n",
      "\u001b[1;31mKeyError\u001b[0m: -1"
     ]
    }
   ],
   "source": [
    "# Etiketlenmediği için hatta aldık.\n",
    "\n",
    "veri2[-1]"
   ]
  },
  {
   "cell_type": "code",
   "execution_count": 51,
   "id": "2b818b06",
   "metadata": {},
   "outputs": [
    {
     "data": {
      "text/plain": [
       "4"
      ]
     },
     "execution_count": 51,
     "metadata": {},
     "output_type": "execute_result"
    }
   ],
   "source": [
    "# Eğer bu indexleme işlemini yaparsan ise bu hataları almayaçağım.\n",
    "\n",
    "veri2[-1]"
   ]
  }
 ],
 "metadata": {
  "kernelspec": {
   "display_name": "Python 3 (ipykernel)",
   "language": "python",
   "name": "python3"
  },
  "language_info": {
   "codemirror_mode": {
    "name": "ipython",
    "version": 3
   },
   "file_extension": ".py",
   "mimetype": "text/x-python",
   "name": "python",
   "nbconvert_exporter": "python",
   "pygments_lexer": "ipython3",
   "version": "3.11.5"
  }
 },
 "nbformat": 4,
 "nbformat_minor": 5
}
