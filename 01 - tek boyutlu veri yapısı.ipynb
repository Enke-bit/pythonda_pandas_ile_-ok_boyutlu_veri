{
 "cells": [
  {
   "cell_type": "code",
   "execution_count": 2,
   "id": "ff6d70e9",
   "metadata": {},
   "outputs": [],
   "source": [
    "import pandas as pd"
   ]
  },
  {
   "cell_type": "code",
   "execution_count": 3,
   "id": "86145a70",
   "metadata": {},
   "outputs": [
    {
     "data": {
      "text/plain": [
       "'2.0.3'"
      ]
     },
     "execution_count": 3,
     "metadata": {},
     "output_type": "execute_result"
    }
   ],
   "source": [
    "pd.__version__"
   ]
  },
  {
   "cell_type": "code",
   "execution_count": 5,
   "id": "cad5f27c",
   "metadata": {},
   "outputs": [
    {
     "data": {
      "text/plain": [
       "0            1\n",
       "1      İbrahim\n",
       "2           31\n",
       "3    Gaziantep\n",
       "dtype: object"
      ]
     },
     "execution_count": 5,
     "metadata": {},
     "output_type": "execute_result"
    }
   ],
   "source": [
    "obje = pd.Series([1,\"İbrahim\",31,\"Gaziantep\"])    # Bir seri halinde veri girişi tanımladım ve bunu obje ismini verdiğim değişkene tanımladım.\n",
    "obje"
   ]
  },
  {
   "cell_type": "code",
   "execution_count": 6,
   "id": "5e522cd5",
   "metadata": {},
   "outputs": [
    {
     "data": {
      "text/plain": [
       "1"
      ]
     },
     "execution_count": 6,
     "metadata": {},
     "output_type": "execute_result"
    }
   ],
   "source": [
    "obje[0]"
   ]
  },
  {
   "cell_type": "code",
   "execution_count": 7,
   "id": "16c8e9df",
   "metadata": {
    "scrolled": true
   },
   "outputs": [
    {
     "data": {
      "text/plain": [
       "array([1, 'İbrahim', 31, 'Gaziantep'], dtype=object)"
      ]
     },
     "execution_count": 7,
     "metadata": {},
     "output_type": "execute_result"
    }
   ],
   "source": [
    "# obje nesnesini dizi şeklinde yazdırmak ve verilerini görmek istiyorsam.\n",
    "# alttaki şekilde yazıp çalıştırmam lazım.\n",
    "obje.values"
   ]
  },
  {
   "cell_type": "markdown",
   "id": "9abe8c3a",
   "metadata": {},
   "source": [
    "--> index veri tipini değiştiriyorum."
   ]
  },
  {
   "cell_type": "code",
   "execution_count": 8,
   "id": "92842fdd",
   "metadata": {},
   "outputs": [
    {
     "data": {
      "text/plain": [
       "a            1\n",
       "b      İbrahim\n",
       "c           31\n",
       "d    Gaziantep\n",
       "dtype: object"
      ]
     },
     "execution_count": 8,
     "metadata": {},
     "output_type": "execute_result"
    }
   ],
   "source": [
    "# Eğer objenin index değerini değiştirmek istersem.\n",
    "\n",
    "obje = pd.Series([1,\"İbrahim\",31,\"Gaziantep\"],index=[\"a\",\"b\",\"c\",\"d\"])\n",
    "obje"
   ]
  },
  {
   "cell_type": "code",
   "execution_count": 11,
   "id": "76535847",
   "metadata": {},
   "outputs": [
    {
     "data": {
      "text/plain": [
       "1"
      ]
     },
     "execution_count": 11,
     "metadata": {},
     "output_type": "execute_result"
    }
   ],
   "source": [
    "# İndex türünü değiştirdiğim için burada veriyi çağırırken farklı türde bir çağırma yöntemi ile çağıyorum.\n",
    "\n",
    "obje[\"a\"]    "
   ]
  },
  {
   "cell_type": "code",
   "execution_count": 12,
   "id": "d2bc5e4d",
   "metadata": {},
   "outputs": [
    {
     "data": {
      "text/plain": [
       "Index(['a', 'b', 'c', 'd'], dtype='object')"
      ]
     },
     "execution_count": 12,
     "metadata": {},
     "output_type": "execute_result"
    }
   ],
   "source": [
    "# eğer objenin index yapısını görmnek istersen.\n",
    "\n",
    "obje.index"
   ]
  },
  {
   "cell_type": "markdown",
   "id": "24de7d44",
   "metadata": {},
   "source": [
    "liste, tuple, sözlük veri tiplerini Series yapısına çevirebiliriz."
   ]
  },
  {
   "cell_type": "code",
   "execution_count": 19,
   "id": "1730721b",
   "metadata": {},
   "outputs": [
    {
     "data": {
      "text/plain": [
       "ali        30\n",
       "mehmet     50\n",
       "aslı       40\n",
       "ibrahim    85\n",
       "melih      70\n",
       "dtype: int64"
      ]
     },
     "execution_count": 19,
     "metadata": {},
     "output_type": "execute_result"
    }
   ],
   "source": [
    "# Sözlük veri yapısında gelen veriyi series veri yapısını dönüştürmüş olduk.\n",
    "\n",
    "puan = {\n",
    "    \"ali\":30,\n",
    "    \"mehmet\":50,\n",
    "    \"aslı\":40,\n",
    "    \"ibrahim\":85,\n",
    "    \"melih\":70\n",
    "}\n",
    "\n",
    "nt = pd.Series(puan)\n",
    "nt"
   ]
  },
  {
   "cell_type": "code",
   "execution_count": 20,
   "id": "5a67d031",
   "metadata": {},
   "outputs": [
    {
     "data": {
      "text/plain": [
       "30"
      ]
     },
     "execution_count": 20,
     "metadata": {},
     "output_type": "execute_result"
    }
   ],
   "source": [
    "nt[\"ali\"]"
   ]
  },
  {
   "cell_type": "code",
   "execution_count": 22,
   "id": "a30b22cf",
   "metadata": {},
   "outputs": [
    {
     "data": {
      "text/plain": [
       "ibrahim    85\n",
       "melih      70\n",
       "dtype: int64"
      ]
     },
     "execution_count": 22,
     "metadata": {},
     "output_type": "execute_result"
    }
   ],
   "source": [
    "nt[nt>50]"
   ]
  },
  {
   "cell_type": "markdown",
   "id": "492a2179",
   "metadata": {},
   "source": [
    "# Bollean (mantıksal operatorleri) series içinde kullanabiliriz."
   ]
  },
  {
   "cell_type": "code",
   "execution_count": 23,
   "id": "d478fe2f",
   "metadata": {},
   "outputs": [
    {
     "data": {
      "text/plain": [
       "ali         True\n",
       "mehmet      True\n",
       "aslı        True\n",
       "ibrahim    False\n",
       "melih       True\n",
       "dtype: bool"
      ]
     },
     "execution_count": 23,
     "metadata": {},
     "output_type": "execute_result"
    }
   ],
   "source": [
    "# örenğin notları 85'den küçük olan mantıksal değerleri gösteriçektir.\n",
    "\n",
    "nt<85"
   ]
  },
  {
   "cell_type": "code",
   "execution_count": 24,
   "id": "ad924aff",
   "metadata": {},
   "outputs": [],
   "source": [
    "# Var olan değerini değiştirebilirim.\n",
    "\n",
    "nt [\"ibrahim\"] = 90"
   ]
  },
  {
   "cell_type": "code",
   "execution_count": 25,
   "id": "fef3aa99",
   "metadata": {},
   "outputs": [
    {
     "data": {
      "text/plain": [
       "90"
      ]
     },
     "execution_count": 25,
     "metadata": {},
     "output_type": "execute_result"
    }
   ],
   "source": [
    "nt[\"ibrahim\"]"
   ]
  },
  {
   "cell_type": "code",
   "execution_count": 26,
   "id": "97884f82",
   "metadata": {},
   "outputs": [],
   "source": [
    "# Puanı 49 altında olan öğrencilerin notunu 50 olan değere çekmek.\n",
    "\n",
    "nt [nt<49] = 50"
   ]
  },
  {
   "cell_type": "code",
   "execution_count": 27,
   "id": "3f0fe19d",
   "metadata": {
    "scrolled": true
   },
   "outputs": [
    {
     "data": {
      "text/plain": [
       "ali        50\n",
       "mehmet     50\n",
       "aslı       50\n",
       "ibrahim    90\n",
       "melih      70\n",
       "dtype: int64"
      ]
     },
     "execution_count": 27,
     "metadata": {},
     "output_type": "execute_result"
    }
   ],
   "source": [
    "nt"
   ]
  },
  {
   "cell_type": "code",
   "execution_count": 28,
   "id": "3b77019e",
   "metadata": {},
   "outputs": [
    {
     "data": {
      "text/plain": [
       "True"
      ]
     },
     "execution_count": 28,
     "metadata": {},
     "output_type": "execute_result"
    }
   ],
   "source": [
    "# Herhangi bir değerin veride olup olmadığını kontröl edebiliriz.\n",
    "\n",
    "\"ibrahim\" in nt\n",
    "# \"ibrahim\" isminin veride olup olmadığını kontrol eder."
   ]
  },
  {
   "cell_type": "code",
   "execution_count": 29,
   "id": "45117b18",
   "metadata": {},
   "outputs": [
    {
     "data": {
      "text/plain": [
       "False"
      ]
     },
     "execution_count": 29,
     "metadata": {},
     "output_type": "execute_result"
    }
   ],
   "source": [
    "\"halil\" in nt"
   ]
  },
  {
   "cell_type": "markdown",
   "id": "f6423ef6",
   "metadata": {},
   "source": [
    "Series veri yapıları üzerinde matematiksel işlemler yapılabilir."
   ]
  },
  {
   "cell_type": "code",
   "execution_count": 30,
   "id": "7dfda1c9",
   "metadata": {},
   "outputs": [
    {
     "data": {
      "text/plain": [
       "ali        5.0\n",
       "mehmet     5.0\n",
       "aslı       5.0\n",
       "ibrahim    9.0\n",
       "melih      7.0\n",
       "dtype: float64"
      ]
     },
     "execution_count": 30,
     "metadata": {},
     "output_type": "execute_result"
    }
   ],
   "source": [
    "# tüm nt içindeki değerlei 10 böleçeğim.\n",
    "\n",
    "nt/10"
   ]
  },
  {
   "cell_type": "code",
   "execution_count": 31,
   "id": "3bc56d82",
   "metadata": {},
   "outputs": [
    {
     "data": {
      "text/plain": [
       "ali        500\n",
       "mehmet     500\n",
       "aslı       500\n",
       "ibrahim    900\n",
       "melih      700\n",
       "dtype: int64"
      ]
     },
     "execution_count": 31,
     "metadata": {},
     "output_type": "execute_result"
    }
   ],
   "source": [
    "nt*10"
   ]
  },
  {
   "cell_type": "code",
   "execution_count": 32,
   "id": "b467de79",
   "metadata": {},
   "outputs": [
    {
     "data": {
      "text/plain": [
       "ali        2500\n",
       "mehmet     2500\n",
       "aslı       2500\n",
       "ibrahim    8100\n",
       "melih      4900\n",
       "dtype: int64"
      ]
     },
     "execution_count": 32,
     "metadata": {},
     "output_type": "execute_result"
    }
   ],
   "source": [
    "nt**2"
   ]
  },
  {
   "cell_type": "code",
   "execution_count": 34,
   "id": "6eee354f",
   "metadata": {},
   "outputs": [
    {
     "data": {
      "text/plain": [
       "ali        False\n",
       "mehmet     False\n",
       "aslı       False\n",
       "ibrahim    False\n",
       "melih      False\n",
       "dtype: bool"
      ]
     },
     "execution_count": 34,
     "metadata": {},
     "output_type": "execute_result"
    }
   ],
   "source": [
    "# eksik değer vermı yok mu onu kontrol eder.\n",
    "\n",
    "nt.isnull()\n",
    "# False döndererek eksik değer olmadığını kontrol eder."
   ]
  }
 ],
 "metadata": {
  "kernelspec": {
   "display_name": "Python 3 (ipykernel)",
   "language": "python",
   "name": "python3"
  },
  "language_info": {
   "codemirror_mode": {
    "name": "ipython",
    "version": 3
   },
   "file_extension": ".py",
   "mimetype": "text/x-python",
   "name": "python",
   "nbconvert_exporter": "python",
   "pygments_lexer": "ipython3",
   "version": "3.11.5"
  }
 },
 "nbformat": 4,
 "nbformat_minor": 5
}
